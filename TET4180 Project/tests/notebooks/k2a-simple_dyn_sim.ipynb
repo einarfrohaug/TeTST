{
 "cells": [
  {
   "cell_type": "code",
   "execution_count": 2,
   "metadata": {},
   "outputs": [
    {
     "name": "stdout",
     "output_type": "stream",
     "text": [
      "4.999999999999916\n",
      "Simulation completed in 17.46 seconds.\n"
     ]
    },
    {
     "data": {
      "text/plain": [
       "<matplotlib.figure.Figure at 0x1e505800320>"
      ]
     },
     "metadata": {},
     "output_type": "display_data"
    }
   ],
   "source": [
    "%matplotlib widget\n",
    "\n",
    "import os\n",
    "import sys\n",
    "module_path = os.path.abspath(os.path.join('../..'))\n",
    "if module_path not in sys.path:\n",
    "    sys.path.append(module_path)\n",
    "    \n",
    "import dynpssimpy.dynamic as dps\n",
    "from collections import defaultdict\n",
    "import pandas as pd\n",
    "import matplotlib.pyplot as plt\n",
    "import numpy as np\n",
    "from scipy.integrate import RK23, RK45, solve_ivp\n",
    "import importlib\n",
    "import time\n",
    "\n",
    "from IPython.display import clear_output, display\n",
    "\n",
    "\n",
    "# Load model\n",
    "# import ps_models.k2a as model_data\n",
    "import ps_models.ieee39 as model_data\n",
    "# import ps_models.n44 as model_data\n",
    "\n",
    "[importlib.reload(mdl) for mdl in [dps, model_data]]\n",
    "model = model_data.load()\n",
    "\n",
    "t_0 = time.time()\n",
    "\n",
    "ps = dps.PowerSystemModel(model=model)\n",
    "ps.pf_max_it = 100\n",
    "# ps.use_numba = True\n",
    "ps.power_flow()\n",
    "ps.init_dyn_sim()\n",
    "ps.build_y_bus_red()\n",
    "ps.ode_fun(0.0, ps.x0)\n",
    "t_end = 5\n",
    "x0 = ps.x0.copy()\n",
    "x0[ps.gen_mdls['GEN'].state_idx['angle'][0]] += 1\n",
    "\n",
    "sol = RK45(ps.ode_fun, 0, x0, t_end, max_step=5e-3)\n",
    "\n",
    "t = 0\n",
    "result_dict = defaultdict(list)\n",
    "\n",
    "while t < t_end:\n",
    "    clear_output(wait=True)\n",
    "    print(t)\n",
    "\n",
    "    # Simulate next step\n",
    "    result = sol.step()\n",
    "    x = sol.y\n",
    "    t = sol.t\n",
    "\n",
    "    # Store result\n",
    "    result_dict['Global', 't'].append(sol.t)\n",
    "    [result_dict[tuple(desc)].append(state) for desc, state in zip(ps.state_desc, x)]\n",
    "\n",
    "print('Simulation completed in {:.2f} seconds.'.format(time.time() - t_0))\n",
    "\n",
    "index = pd.MultiIndex.from_tuples(result_dict)\n",
    "result = pd.DataFrame(result_dict, columns=index)\n",
    "\n",
    "fig, ax = plt.subplots(2)\n",
    "ax[0].plot(result[('Global', 't')], result.xs(key='speed', axis='columns', level=1))\n",
    "ax[1].plot(result[('Global', 't')], result.xs(key='angle', axis='columns', level=1))\n",
    "plt.show()\n",
    "\n"
   ]
  },
  {
   "cell_type": "code",
   "execution_count": null,
   "metadata": {
    "collapsed": true
   },
   "outputs": [],
   "source": []
  }
 ],
 "metadata": {
  "kernelspec": {
   "display_name": "Python 3",
   "language": "python",
   "name": "python3"
  }
 },
 "nbformat": 4,
 "nbformat_minor": 4
}
